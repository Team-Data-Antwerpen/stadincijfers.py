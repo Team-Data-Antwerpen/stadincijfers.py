{
 "cells": [
  {
   "cell_type": "markdown",
   "metadata": {},
   "source": [
    "Example stadincijfers usage in python\n",
    "=========\n",
    "\n",
    "Make sure that stadincijfers is installed.\n",
    "If needed, run the following in terminal:\n",
    "\n",
    "    pip install stadincijfers\n"
   ]
  },
  {
   "cell_type": "code",
   "execution_count": 1,
   "metadata": {},
   "outputs": [],
   "source": [
    "import pandas as pd"
   ]
  },
  {
   "cell_type": "code",
   "execution_count": 2,
   "metadata": {},
   "outputs": [],
   "source": [
    "from stadincijfers import stadincijfers"
   ]
  },
  {
   "cell_type": "code",
   "execution_count": 3,
   "metadata": {},
   "outputs": [],
   "source": [
    "sic = stadincijfers(\"antwerpen\")"
   ]
  },
  {
   "cell_type": "markdown",
   "metadata": {},
   "source": [
    "### Geolevels and periodlevels.\n",
    "\n",
    "You can get a dictionary of available periodlevels and geolevels on the server by calling `.geolevels()` or `.periodlevels()` on the sic-object. "
   ]
  },
  {
   "cell_type": "code",
   "execution_count": 4,
   "metadata": {},
   "outputs": [
    {
     "data": {
      "text/plain": [
       "{'halfyear': 'Halfjaar',\n",
       " 'month': 'Maand',\n",
       " 'quarter': 'Kwartaal',\n",
       " 'year': 'Jaar'}"
      ]
     },
     "execution_count": 4,
     "metadata": {},
     "output_type": "execute_result"
    }
   ],
   "source": [
    "sic.periodlevels()"
   ]
  },
  {
   "cell_type": "markdown",
   "metadata": {},
   "source": [
    "### Getting the lists of available data\n",
    "\n",
    "You can also get the open available variables (cijfers) and their name, but this can take a while to read them all. These servers seem to have a lot of data. \n",
    "\n",
    "You need to give a starting en endpoint for this tool to loop through, they will be fetched in blocks of 10. Something like `sic.odataVariables(0, 100000)` will get them all.\n",
    "\n",
    "Best to save your results to a file, so won't need to fetch them every time. "
   ]
  },
  {
   "cell_type": "code",
   "execution_count": null,
   "metadata": {},
   "outputs": [],
   "source": []
  },
  {
   "cell_type": "code",
   "execution_count": 6,
   "metadata": {},
   "outputs": [
    {
     "name": "stdout",
     "output_type": "stream",
     "text": [
      "reading data, lines 16700 to 17000 this can take a while\n",
      "16700 16710 16720 16730 16740 16750 16760 16770 16780 16790 16800 16810 16820 16830 16840 16850 16860 16870 16880 16890 16900 16910 16920 16930 16940 16950 16960 16970 16980 16990 17000 "
     ]
    },
    {
     "data": {
      "text/plain": [
       "sm_mo_ws_elektrfiets_sum    Verplaatsing werk/school: vaak met elektrische...\n",
       "sm_mo_ws_fiets                       Verplaatsing werk/school: vaak met fiets\n",
       "sm_mo_ws_fiets_clt               Verplaatsing werk/school: vaak met fiets_CLT\n",
       "sm_mo_ws_fiets_clt_og         Verplaatsing werk/school: vaak met fiets_CLT_OG\n",
       "sm_mo_ws_fiets_sum               Verplaatsing werk/school: vaak met fiets_SUM\n",
       "dtype: object"
      ]
     },
     "execution_count": 6,
     "metadata": {},
     "output_type": "execute_result"
    }
   ],
   "source": [
    "vars = sic.odataVariables(16700, 17000)\n",
    "vars_s = pd.Series(vars)\n",
    "vars_s.to_csv(\"data/vars.csv\")\n",
    "vars_s.tail()"
   ]
  },
  {
   "cell_type": "markdown",
   "metadata": {},
   "source": [
    "### Getting the data \n",
    "\n",
    "If have a variable from the odataVariables-list you want to explore, you can fetch them with `selectiontableasjson` as a json-object or `selectiontableasDataframe` as a pandas-dataframe. You also to specify **geolevel** , **periodlevel** and which **period**, usually a year, you want to select data for. "
   ]
  },
  {
   "cell_type": "code",
   "execution_count": 7,
   "metadata": {},
   "outputs": [
    {
     "data": {
      "text/plain": [
       "[['12MQ', '2020', ''],\n",
       " ['A00-', '2020', '2'],\n",
       " ['A01-', '2020', ''],\n",
       " ['A02-', '2020', '9'],\n",
       " ['A03-', '2020', ''],\n",
       " ['A04-', '2020', '3'],\n",
       " ['A05-', '2020', '2'],\n",
       " ['A081', '2020', ''],\n",
       " ['A10-', '2020', ''],\n",
       " ['A11-', '2020', '5']]"
      ]
     },
     "execution_count": 7,
     "metadata": {},
     "output_type": "execute_result"
    }
   ],
   "source": [
    "# get data as a json object convert to dict\n",
    "v = sic.selectiontableasjson('autodeelplaatsen_cambio', geolevel='sector', periodlevel='year', period=2020 )\n",
    "v['rows'][0:10]"
   ]
  },
  {
   "cell_type": "code",
   "execution_count": 10,
   "metadata": {},
   "outputs": [
    {
     "data": {
      "text/html": [
       "<div>\n",
       "<style scoped>\n",
       "    .dataframe tbody tr th:only-of-type {\n",
       "        vertical-align: middle;\n",
       "    }\n",
       "\n",
       "    .dataframe tbody tr th {\n",
       "        vertical-align: top;\n",
       "    }\n",
       "\n",
       "    .dataframe thead th {\n",
       "        text-align: right;\n",
       "    }\n",
       "</style>\n",
       "<table border=\"1\" class=\"dataframe\">\n",
       "  <thead>\n",
       "    <tr style=\"text-align: right;\">\n",
       "      <th></th>\n",
       "      <th>Geo</th>\n",
       "      <th>Perioden</th>\n",
       "      <th># autodeelplaatsen Cambio</th>\n",
       "    </tr>\n",
       "  </thead>\n",
       "  <tbody>\n",
       "    <tr>\n",
       "      <th>0</th>\n",
       "      <td>12MQ</td>\n",
       "      <td>2016</td>\n",
       "      <td>NaN</td>\n",
       "    </tr>\n",
       "    <tr>\n",
       "      <th>1</th>\n",
       "      <td>A00-</td>\n",
       "      <td>2016</td>\n",
       "      <td>2.0</td>\n",
       "    </tr>\n",
       "    <tr>\n",
       "      <th>2</th>\n",
       "      <td>A01-</td>\n",
       "      <td>2016</td>\n",
       "      <td>NaN</td>\n",
       "    </tr>\n",
       "    <tr>\n",
       "      <th>3</th>\n",
       "      <td>A02-</td>\n",
       "      <td>2016</td>\n",
       "      <td>2.0</td>\n",
       "    </tr>\n",
       "    <tr>\n",
       "      <th>4</th>\n",
       "      <td>A03-</td>\n",
       "      <td>2016</td>\n",
       "      <td>NaN</td>\n",
       "    </tr>\n",
       "    <tr>\n",
       "      <th>5</th>\n",
       "      <td>A04-</td>\n",
       "      <td>2016</td>\n",
       "      <td>3.0</td>\n",
       "    </tr>\n",
       "    <tr>\n",
       "      <th>6</th>\n",
       "      <td>A05-</td>\n",
       "      <td>2016</td>\n",
       "      <td>1.0</td>\n",
       "    </tr>\n",
       "    <tr>\n",
       "      <th>7</th>\n",
       "      <td>A081</td>\n",
       "      <td>2016</td>\n",
       "      <td>0.0</td>\n",
       "    </tr>\n",
       "    <tr>\n",
       "      <th>8</th>\n",
       "      <td>A10-</td>\n",
       "      <td>2016</td>\n",
       "      <td>NaN</td>\n",
       "    </tr>\n",
       "    <tr>\n",
       "      <th>9</th>\n",
       "      <td>A11-</td>\n",
       "      <td>2016</td>\n",
       "      <td>4.0</td>\n",
       "    </tr>\n",
       "  </tbody>\n",
       "</table>\n",
       "</div>"
      ],
      "text/plain": [
       "    Geo Perioden  # autodeelplaatsen Cambio\n",
       "0  12MQ     2016                        NaN\n",
       "1  A00-     2016                        2.0\n",
       "2  A01-     2016                        NaN\n",
       "3  A02-     2016                        2.0\n",
       "4  A03-     2016                        NaN\n",
       "5  A04-     2016                        3.0\n",
       "6  A05-     2016                        1.0\n",
       "7  A081     2016                        0.0\n",
       "8  A10-     2016                        NaN\n",
       "9  A11-     2016                        4.0"
      ]
     },
     "execution_count": 10,
     "metadata": {},
     "output_type": "execute_result"
    }
   ],
   "source": [
    "cambio2016 = sic.selectiontableasDataframe('autodeelplaatsen_cambio', geolevel='sector', periodlevel='year', period=2016)\n",
    "cambio2016.head(10)\n"
   ]
  },
  {
   "cell_type": "markdown",
   "metadata": {},
   "source": [
    "### Doing calculations"
   ]
  },
  {
   "cell_type": "code",
   "execution_count": 12,
   "metadata": {},
   "outputs": [
    {
     "data": {
      "text/plain": [
       "'cambios staansplaatsen in 2016 74.0 en nu 209.0'"
      ]
     },
     "execution_count": 12,
     "metadata": {},
     "output_type": "execute_result"
    }
   ],
   "source": [
    "cambioNu = sic.selectiontableasDataframe('autodeelplaatsen_cambio', geolevel='sector', periodlevel='year', period=2022)\n",
    "\"cambios staansplaatsen in 2016 {} en nu {}\".format( cambio2016['# autodeelplaatsen Cambio'].sum() ,\n",
    "                                            cambioNu['# autodeelplaatsen Cambio'].sum() ) "
   ]
  },
  {
   "cell_type": "markdown",
   "metadata": {},
   "source": [
    "## Export to excel"
   ]
  },
  {
   "cell_type": "code",
   "execution_count": 4,
   "metadata": {},
   "outputs": [],
   "source": [
    "from stadincijfers import stadincijfers\n",
    "sic = stadincijfers('antwerpen')\n",
    "bevdicht = sic.selectiontableasDataframe('bevdicht', geolevel='sector', periodlevel='year', period=2022)\n",
    "bevdicht.to_excel('data\\\\bevdicht.xlsx')"
   ]
  }
 ],
 "metadata": {
  "kernelspec": {
   "display_name": "Python 3",
   "language": "python",
   "name": "python3"
  },
  "language_info": {
   "codemirror_mode": {
    "name": "ipython",
    "version": 3
   },
   "file_extension": ".py",
   "mimetype": "text/x-python",
   "name": "python",
   "nbconvert_exporter": "python",
   "pygments_lexer": "ipython3",
   "version": "3.7.11"
  }
 },
 "nbformat": 4,
 "nbformat_minor": 4
}
